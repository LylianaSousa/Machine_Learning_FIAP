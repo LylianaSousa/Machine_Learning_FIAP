{
 "cells": [
  {
   "cell_type": "code",
   "execution_count": 56,
   "metadata": {},
   "outputs": [],
   "source": [
    "import tensorflow as tf\n",
    "import numpy as np"
   ]
  },
  {
   "cell_type": "code",
   "execution_count": 57,
   "metadata": {},
   "outputs": [],
   "source": [
    "import tensorflow.compat.v1 as tf\n",
    "tf.disable_v2_behavior()"
   ]
  },
  {
   "cell_type": "code",
   "execution_count": 58,
   "metadata": {},
   "outputs": [
    {
     "data": {
      "text/plain": [
       "array([[0, 0],\n",
       "       [0, 1],\n",
       "       [1, 0],\n",
       "       [1, 1]])"
      ]
     },
     "execution_count": 58,
     "metadata": {},
     "output_type": "execute_result"
    }
   ],
   "source": [
    "#variaveis de entrada da rede neural\n",
    "X = np.array([[0,0], [0,1], [1,0], [1,1]])\n",
    "X\n"
   ]
  },
  {
   "cell_type": "code",
   "execution_count": 59,
   "metadata": {},
   "outputs": [
    {
     "data": {
      "text/plain": [
       "array([[1],\n",
       "       [0],\n",
       "       [0],\n",
       "       [1]])"
      ]
     },
     "execution_count": 59,
     "metadata": {},
     "output_type": "execute_result"
    }
   ],
   "source": [
    "y = np.array([[1], [0], [0], [1]])\n",
    "y\n"
   ]
  },
  {
   "cell_type": "markdown",
   "metadata": {},
   "source": [
    "# Montando a rede neural\n",
    "- Quantidade de neuronios de entrada depente do numero de variaveis de x.\n",
    "- Quantidade de neuronios de saida depente da quantidade de camadas de y.\n"
   ]
  },
  {
   "cell_type": "code",
   "execution_count": 60,
   "metadata": {},
   "outputs": [],
   "source": [
    "neuronios_entrada = 2\n",
    "neuronios_oculta = 3\n",
    "neuronios_saida = 1"
   ]
  },
  {
   "cell_type": "code",
   "execution_count": 61,
   "metadata": {},
   "outputs": [],
   "source": [
    "w = {'oculta': tf.Variable(tf.random.normal([neuronios_entrada, neuronios_oculta]), name='w_oculta'),\n",
    "    'saida': tf.Variable(tf.random.normal([neuronios_oculta, neuronios_saida]), name='w_saida')}"
   ]
  },
  {
   "cell_type": "code",
   "execution_count": 62,
   "metadata": {},
   "outputs": [
    {
     "data": {
      "text/plain": [
       "dict"
      ]
     },
     "execution_count": 62,
     "metadata": {},
     "output_type": "execute_result"
    }
   ],
   "source": [
    "type(w)"
   ]
  },
  {
   "cell_type": "code",
   "execution_count": 63,
   "metadata": {},
   "outputs": [
    {
     "data": {
      "text/plain": [
       "tensorflow.python.ops.variables.RefVariable"
      ]
     },
     "execution_count": 63,
     "metadata": {},
     "output_type": "execute_result"
    }
   ],
   "source": [
    "type(w['oculta'])"
   ]
  },
  {
   "cell_type": "code",
   "execution_count": 64,
   "metadata": {},
   "outputs": [],
   "source": [
    "b = {'oculta': tf.Variable(tf.random.normal([neuronios_oculta]), name='b_oculta'),\n",
    "    'saida': tf.Variable(tf.random.normal([neuronios_saida]), name='b_saida')}"
   ]
  },
  {
   "cell_type": "code",
   "execution_count": 65,
   "metadata": {},
   "outputs": [],
   "source": [
    "xph = tf.placeholder(tf.float32, [4, neuronios_entrada], name='xph')\n",
    "yph =  tf.placeholder(tf.float32, [4,neuronios_saida], name='yph')"
   ]
  },
  {
   "cell_type": "code",
   "execution_count": 92,
   "metadata": {},
   "outputs": [],
   "source": [
    "camada_oculta = tf.add(tf.matmul(xph, w['oculta']), b['oculta'])\n",
    "camada_oculta_ativacao = tf.sigmoid(camada_oculta)\n",
    "camada_saida = tf.add(tf.matmul(camada_oculta_ativacao, w['saida']), b['saida'])\n",
    "camada_saida_ativacao = tf.sigmoid(camada_saida)\n",
    "\n",
    "erro = tf.losses.mean_squared_error(yph, camada_saida_ativacao)\n",
    "otimizador = tf.train.GradientDescentOptimizer(learning_rate=0.3).minimize(erro)"
   ]
  },
  {
   "cell_type": "markdown",
   "metadata": {},
   "source": [
    "Executando a Rede Neural"
   ]
  },
  {
   "cell_type": "code",
   "execution_count": 93,
   "metadata": {},
   "outputs": [],
   "source": [
    "init = tf.global_variables_initializer()"
   ]
  },
  {
   "cell_type": "code",
   "execution_count": 94,
   "metadata": {},
   "outputs": [
    {
     "name": "stdout",
     "output_type": "stream",
     "text": [
      "0.06433450430631638\n",
      "0.060047633945941925\n",
      "0.053604111075401306\n",
      "0.04141942784190178\n",
      "0.025582248345017433\n",
      "0.014570435509085655\n",
      "0.00895710475742817\n",
      "0.006075732409954071\n",
      "0.004451403394341469\n",
      "0.0034488816745579243\n",
      "0.002783509436994791\n",
      "0.002316216006875038\n",
      "0.0019731917418539524\n",
      "0.001712355064228177\n",
      "0.0015082892496138811\n",
      "0.0013448536628857255\n",
      "0.0012113731354475021\n",
      "0.001100541208870709\n",
      "0.0010072048753499985\n",
      "0.0009276375058107078\n",
      "0.0008590802899561822\n",
      "0.0007994580664671957\n",
      "0.000747170124668628\n",
      "0.0007009768160060048\n",
      "0.000659895536955446\n",
      "0.0006231428706087172\n",
      "0.0005900835967622697\n",
      "0.0005602015880867839\n",
      "0.000533066806383431\n",
      "0.0005083293654024601\n",
      "0.0004856885934714228\n",
      "0.0004648969625122845\n",
      "0.00044573767809197307\n",
      "0.0004280318389646709\n",
      "0.0004116238560527563\n",
      "0.00039637915324419737\n",
      "0.00038217747351154685\n",
      "0.00036892128991894424\n",
      "0.00035652058431878686\n",
      "0.0003448932257015258\n",
      "0.00033397393417544663\n",
      "0.0003236986231058836\n",
      "0.0003140149638056755\n",
      "0.0003048731305170804\n",
      "0.000296229321975261\n",
      "0.00028804520843550563\n",
      "0.00028028676752001047\n",
      "0.0002729189000092447\n",
      "0.00026591712958179414\n",
      "0.00025925319641828537\n"
     ]
    }
   ],
   "source": [
    "with tf.Session() as sess:\n",
    "    sess.run(init)\n",
    "    for epocas in range(10_000):\n",
    "        erro_medio = 0\n",
    "        _, custo = sess.run([otimizador, erro], feed_dict={xph : X, yph: y})\n",
    "        if epocas % 200 == 0:\n",
    "            erro_medio += custo/4\n",
    "            print(erro_medio)\n",
    "    w_final, b_final = sess.run([w, b])"
   ]
  },
  {
   "cell_type": "code",
   "execution_count": 95,
   "metadata": {},
   "outputs": [
    {
     "data": {
      "text/plain": [
       "{'oculta': array([[ 5.818965  ,  5.086113  ,  0.87412494],\n",
       "        [-5.4194994 , -5.513158  ,  0.7945648 ]], dtype=float32),\n",
       " 'saida': array([[ 8.109456],\n",
       "        [-8.342721],\n",
       "        [-2.44619 ]], dtype=float32)}"
      ]
     },
     "execution_count": 95,
     "metadata": {},
     "output_type": "execute_result"
    }
   ],
   "source": [
    "w_final"
   ]
  },
  {
   "cell_type": "code",
   "execution_count": 96,
   "metadata": {},
   "outputs": [
    {
     "data": {
      "text/plain": [
       "{'oculta': array([ 2.80102  , -2.7204738,  1.3229336], dtype=float32),\n",
       " 'saida': array([-1.7162281], dtype=float32)}"
      ]
     },
     "execution_count": 96,
     "metadata": {},
     "output_type": "execute_result"
    }
   ],
   "source": [
    "b_final"
   ]
  },
  {
   "cell_type": "markdown",
   "metadata": {},
   "source": [
    "Testando as previsões da rede treinada"
   ]
  },
  {
   "cell_type": "code",
   "execution_count": 98,
   "metadata": {},
   "outputs": [],
   "source": [
    "camada_oculta_teste = tf.add(tf.matmul(xph, w_final['oculta']), b_final['oculta'])\n",
    "camada_oculta_ativacao_teste = tf.sigmoid(camada_oculta_teste)\n",
    "camada_saida_teste = tf.add(tf.matmul(camada_oculta_ativacao_teste, w_final['saida']), b_final['saida'])\n",
    "camada_saida_ativacao_teste = tf.sigmoid(camada_saida_teste)\n"
   ]
  },
  {
   "cell_type": "code",
   "execution_count": 99,
   "metadata": {},
   "outputs": [
    {
     "name": "stdout",
     "output_type": "stream",
     "text": [
      "[[0.9701638 ]\n",
      " [0.03386942]\n",
      " [0.03117615]\n",
      " [0.9677946 ]]\n"
     ]
    }
   ],
   "source": [
    "with tf.Session() as sess:\n",
    "    sess.run(init)\n",
    "    print(sess.run(camada_saida_ativacao_teste, feed_dict = {xph: X}))\n"
   ]
  }
 ],
 "metadata": {
  "interpreter": {
   "hash": "38740d3277777e2cd7c6c2cc9d8addf5118fdf3f82b1b39231fd12aeac8aee8b"
  },
  "kernelspec": {
   "display_name": "Python 3.10.1 64-bit",
   "language": "python",
   "name": "python3"
  },
  "language_info": {
   "codemirror_mode": {
    "name": "ipython",
    "version": 3
   },
   "file_extension": ".py",
   "mimetype": "text/x-python",
   "name": "python",
   "nbconvert_exporter": "python",
   "pygments_lexer": "ipython3",
   "version": "3.10.1"
  },
  "orig_nbformat": 4
 },
 "nbformat": 4,
 "nbformat_minor": 2
}
