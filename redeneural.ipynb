{
 "cells": [
  {
   "cell_type": "markdown",
   "metadata": {},
   "source": [
    "# Exemplo de Rede Neural low level \n",
    "### Classificador XOR\n",
    "\n",
    "Para desenvolver uma rede neural que aprenda a resolver problemas binarios respeitando o operador XOR, que se conporta da seginte maneira:\n",
    "\n",
    "variavel_1 | variavel_2 | resultado esperado\n",
    "---------  | ---------  |  ---------\n",
    "     0    |      0     |           1\n",
    "     0    |       1     |           0\n",
    "     1    |       0     |           0\n",
    "     0    |       0     |           1"
   ]
  },
  {
   "cell_type": "code",
   "execution_count": 59,
   "metadata": {},
   "outputs": [],
   "source": [
    "import tensorflow as tf\n",
    "import numpy as np"
   ]
  },
  {
   "cell_type": "code",
   "execution_count": 60,
   "metadata": {},
   "outputs": [],
   "source": [
    "import tensorflow.compat.v1 as tf\n",
    "tf.disable_v2_behavior()"
   ]
  },
  {
   "cell_type": "code",
   "execution_count": 61,
   "metadata": {},
   "outputs": [
    {
     "data": {
      "text/plain": [
       "array([[0, 0],\n",
       "       [0, 1],\n",
       "       [1, 0],\n",
       "       [1, 1]])"
      ]
     },
     "execution_count": 61,
     "metadata": {},
     "output_type": "execute_result"
    }
   ],
   "source": [
    "#variaveis de entrada da rede neural\n",
    "X = np.array([[0,0], [0,1], [1,0], [1,1]])\n",
    "X"
   ]
  },
  {
   "cell_type": "code",
   "execution_count": 62,
   "metadata": {},
   "outputs": [
    {
     "data": {
      "text/plain": [
       "array([[1],\n",
       "       [0],\n",
       "       [0],\n",
       "       [1]])"
      ]
     },
     "execution_count": 62,
     "metadata": {},
     "output_type": "execute_result"
    }
   ],
   "source": [
    "y = np.array([[1], [0], [0], [1]])\n",
    "y"
   ]
  },
  {
   "cell_type": "markdown",
   "metadata": {},
   "source": [
    "# Montar a rede neural"
   ]
  },
  {
   "cell_type": "code",
   "execution_count": 63,
   "metadata": {},
   "outputs": [],
   "source": [
    "neuronios_entrada = 2\n",
    "neuronios_oculta = 3\n",
    "neuronios_saida = 1"
   ]
  },
  {
   "cell_type": "code",
   "execution_count": 64,
   "metadata": {},
   "outputs": [],
   "source": [
    "W = {'oculta': tf.Variable(tf.random.normal([neuronios_entrada,neuronios_oculta]), name='w_oculta'),\n",
    "     'saida': tf.Variable(tf.random.normal([neuronios_oculta, neuronios_saida]), name='w_saida')}"
   ]
  },
  {
   "cell_type": "code",
   "execution_count": 65,
   "metadata": {},
   "outputs": [
    {
     "data": {
      "text/plain": [
       "tensorflow.python.ops.variables.RefVariable"
      ]
     },
     "execution_count": 65,
     "metadata": {},
     "output_type": "execute_result"
    }
   ],
   "source": [
    "type(W)\n",
    "type(W['oculta'])"
   ]
  },
  {
   "cell_type": "code",
   "execution_count": 66,
   "metadata": {},
   "outputs": [],
   "source": [
    "b = {'oculta': tf.Variable(tf.random.normal([neuronios_oculta]), name='b_oculta'),\n",
    "     'saida': tf.Variable(tf.random.normal([neuronios_saida]), name='b_saida')}"
   ]
  },
  {
   "cell_type": "code",
   "execution_count": 67,
   "metadata": {},
   "outputs": [],
   "source": [
    "xph = tf.placeholder(tf.float32, [4, neuronios_entrada], name='xph')\n",
    "yph = tf.placeholder(tf.float32, [4, neuronios_saida], name='yph')"
   ]
  },
  {
   "cell_type": "code",
   "execution_count": 68,
   "metadata": {},
   "outputs": [],
   "source": [
    "camada_oculta = tf.add(tf.matmul(xph, W['oculta']), b['oculta'])\n",
    "camada_oculta_ativacao = tf.sigmoid(camada_oculta)\n",
    "camada_saida = tf.add(tf.matmul(camada_oculta_ativacao, W['saida']), b['saida'])\n",
    "camada_saida_ativacao = tf.sigmoid(camada_saida)\n",
    "erro = tf.losses.mean_squared_error(yph, camada_saida_ativacao)\n",
    "otimizador = tf.train.GradientDescentOptimizer(learning_rate=0.3).minimize(erro)"
   ]
  },
  {
   "cell_type": "markdown",
   "metadata": {},
   "source": [
    "# Executando Rede Neural"
   ]
  },
  {
   "cell_type": "code",
   "execution_count": 69,
   "metadata": {},
   "outputs": [],
   "source": [
    "init = tf.global_variables_initializer()"
   ]
  },
  {
   "cell_type": "code",
   "execution_count": 70,
   "metadata": {},
   "outputs": [
    {
     "name": "stdout",
     "output_type": "stream",
     "text": [
      "0.06597848981618881\n",
      "0.06215200200676918\n",
      "0.06140977144241333\n",
      "0.05990597605705261\n",
      "0.05673708766698837\n",
      "0.050518810749053955\n",
      "0.04010172560811043\n",
      "0.027394510805606842\n",
      "0.017496589571237564\n",
      "0.011581424623727798\n",
      "0.00818148534744978\n",
      "0.0061292462050914764\n",
      "0.004809466190636158\n",
      "0.003910810686647892\n",
      "0.0032691247761249542\n",
      "0.002792803104966879\n",
      "0.002427819184958935\n",
      "0.002140719909220934\n",
      "0.0019098855555057526\n",
      "0.0017208234639838338\n",
      "0.0015635141171514988\n",
      "0.0014308408135548234\n",
      "0.0013176091015338898\n",
      "0.0012199683114886284\n",
      "0.0011350021231919527\n",
      "0.001060460228472948\n",
      "0.00099458871409297\n",
      "0.0009359986870549619\n",
      "0.0008835791377350688\n",
      "0.0008364273235201836\n",
      "0.0007938097114674747\n",
      "0.0007551157614216208\n",
      "0.0007198430830612779\n",
      "0.0006875649560242891\n",
      "0.0006579275359399617\n",
      "0.0006306256982497871\n",
      "0.0006053990218788385\n",
      "0.0005820263177156448\n",
      "0.0005603154422715306\n",
      "0.0005400966620072722\n",
      "0.0005212262040004134\n",
      "0.0005035767098888755\n",
      "0.0004870345874223858\n",
      "0.00047150219324976206\n",
      "0.00045689003309234977\n",
      "0.0004431217093952\n",
      "0.00043012743117287755\n",
      "0.00041784471250139177\n",
      "0.00040621758671477437\n",
      "0.0003951969265472144\n"
     ]
    }
   ],
   "source": [
    "with tf.Session() as sess:\n",
    "    sess.run(init)\n",
    "    for epocas in range(10000):\n",
    "        erro_medio = 0\n",
    "        _, custo = sess.run([otimizador, erro], feed_dict= {xph: X, yph: y})\n",
    "        if epocas % 200 == 0:\n",
    "            erro_medio += custo/4\n",
    "            print(erro_medio)\n",
    "    \n",
    "    W_final, b_final = sess.run([W, b])"
   ]
  },
  {
   "cell_type": "code",
   "execution_count": 71,
   "metadata": {},
   "outputs": [
    {
     "data": {
      "text/plain": [
       "{'oculta': array([[ 5.9295697,  1.3865861, -5.58334  ],\n",
       "        [-5.2637286,  1.5084823,  6.0843844]], dtype=float32),\n",
       " 'saida': array([[ 7.4200196],\n",
       "        [-5.3683143],\n",
       "        [ 7.4078956]], dtype=float32)}"
      ]
     },
     "execution_count": 71,
     "metadata": {},
     "output_type": "execute_result"
    }
   ],
   "source": [
    "W_final"
   ]
  },
  {
   "cell_type": "code",
   "execution_count": 72,
   "metadata": {},
   "outputs": [
    {
     "data": {
      "text/plain": [
       "{'oculta': array([2.6232247, 1.8965039, 2.848985 ], dtype=float32),\n",
       " 'saida': array([-5.8477697], dtype=float32)}"
      ]
     },
     "execution_count": 72,
     "metadata": {},
     "output_type": "execute_result"
    }
   ],
   "source": [
    "b_final"
   ]
  },
  {
   "cell_type": "markdown",
   "metadata": {},
   "source": [
    "# Testando as previsões da rede treinada"
   ]
  },
  {
   "cell_type": "code",
   "execution_count": 73,
   "metadata": {},
   "outputs": [],
   "source": [
    "camada_oculta_teste = tf.add(tf.matmul(xph, W_final['oculta']), b_final['oculta'])\n",
    "camada_oculta_ativacao_teste = tf.sigmoid(camada_oculta_teste)\n",
    "camada_saida_teste = tf.add(tf.matmul(camada_oculta_ativacao_teste, W_final['saida']), b_final['saida'])\n",
    "camada_saida_ativacao_teste = tf.sigmoid(camada_saida_teste)"
   ]
  },
  {
   "cell_type": "code",
   "execution_count": 74,
   "metadata": {},
   "outputs": [
    {
     "name": "stdout",
     "output_type": "stream",
     "text": [
      "[[0.9678583 ]\n",
      " [0.04138276]\n",
      " [0.04102457]\n",
      " [0.95844114]]\n"
     ]
    }
   ],
   "source": [
    "with tf.Session() as sess:\n",
    "    sess.run(init)\n",
    "    print(sess.run(camada_saida_ativacao_teste, feed_dict = {xph: X}))"
   ]
  }
 ],
 "metadata": {
  "interpreter": {
   "hash": "468f25ad0239460415b7e6b7483d5c8f7213894121f6fb96c4cb6ef93fffe534"
  },
  "kernelspec": {
   "display_name": "Python 3.9.6 64-bit",
   "language": "python",
   "name": "python3"
  },
  "language_info": {
   "codemirror_mode": {
    "name": "ipython",
    "version": 3
   },
   "file_extension": ".py",
   "mimetype": "text/x-python",
   "name": "python",
   "nbconvert_exporter": "python",
   "pygments_lexer": "ipython3",
   "version": "3.9.9"
  },
  "orig_nbformat": 4
 },
 "nbformat": 4,
 "nbformat_minor": 2
}
